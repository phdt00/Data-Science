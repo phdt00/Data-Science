{
 "cells": [
  {
   "cell_type": "markdown",
   "id": "2b5b506c-1a93-4c70-af6f-433a8e802308",
   "metadata": {},
   "source": [
    "# DataScienceEcosystem"
   ]
  },
  {
   "cell_type": "markdown",
   "id": "43b675a1-5cfa-4fdc-960d-3357dc986e94",
   "metadata": {},
   "source": [
    "In this notebook, Data Science Tools and Ecosystem are summarized."
   ]
  },
  {
   "cell_type": "markdown",
   "id": "b2e63757-0f81-4237-abc3-6b938ea23441",
   "metadata": {},
   "source": [
    "Some of the popular languages that Data Scientists use are:\n",
    "1. Python\n",
    "2. R\n",
    "3. SQL\n",
    "4. Java\n",
    "5. Julia\n",
    "6. Scala\n",
    "7. C/C++\n",
    "8. JavaScript"
   ]
  },
  {
   "cell_type": "markdown",
   "id": "ab496ebc-95a4-4bf5-950d-46dd297e8eb0",
   "metadata": {},
   "source": [
    "Some of the commonly used libraries used by Data Scientists include:\n",
    "1. Matplotlib\n",
    "2. NumPy\n",
    "3. Pandas\n",
    "4. TensorFlow\n",
    "5. SciPy\n",
    "6. Keras\n",
    "7. Seaborn\n",
    "8. Plotly"
   ]
  },
  {
   "cell_type": "markdown",
   "id": "d680eccc-0268-499f-82b3-fbb2b9f01b06",
   "metadata": {},
   "source": [
    "| Data Science Tools |\n",
    "| ------------------ |\n",
    "| Jupyter IDE        |\n",
    "| RStudio            |\n",
    "| Microsoft VS Code  |\n",
    "| Spyder             |"
   ]
  },
  {
   "cell_type": "markdown",
   "id": "1182a69a-b5a3-4877-bd35-8e24219b64a9",
   "metadata": {},
   "source": [
    "### Below are a few examples of evaluating arithmetic expressions in Python"
   ]
  },
  {
   "cell_type": "code",
   "execution_count": 1,
   "id": "bb5404a1-c32e-4c62-99f8-2103339e9cbf",
   "metadata": {},
   "outputs": [
    {
     "data": {
      "text/plain": [
       "17"
      ]
     },
     "execution_count": 1,
     "metadata": {},
     "output_type": "execute_result"
    }
   ],
   "source": [
    "# This a simple arithmetic expression to mutiply then add integers\n",
    "(3*4)+5"
   ]
  },
  {
   "cell_type": "code",
   "execution_count": 2,
   "id": "ce411723-a0e5-4f0b-b7e4-a8ef99a81ad6",
   "metadata": {},
   "outputs": [
    {
     "data": {
      "text/plain": [
       "3.3333333333333335"
      ]
     },
     "execution_count": 2,
     "metadata": {},
     "output_type": "execute_result"
    }
   ],
   "source": [
    "# This will convert 200 minutes to hours by diving by 60\n",
    "200/60"
   ]
  },
  {
   "cell_type": "markdown",
   "id": "37f41f5e-113d-410f-bb69-ba21f6f74e7c",
   "metadata": {},
   "source": [
    "Objectives:\n",
    "* List popular languages for Data Science\n",
    "* List commonly used libraries\n",
    "* Create a table with open source development tools for daa science\n",
    "* Create markdown cells with H1, H2, H3 style heading"
   ]
  },
  {
   "cell_type": "markdown",
   "id": "d37f5ca0-6f1d-481c-8ae8-3a0aa104e146",
   "metadata": {},
   "source": [
    "## Author\n",
    "Peter Hörstedt"
   ]
  },
  {
   "cell_type": "code",
   "execution_count": null,
   "id": "6afc9856-9596-4719-a659-123c959506b5",
   "metadata": {},
   "outputs": [],
   "source": []
  }
 ],
 "metadata": {
  "kernelspec": {
   "display_name": "Python 3 (ipykernel)",
   "language": "python",
   "name": "python3"
  },
  "language_info": {
   "codemirror_mode": {
    "name": "ipython",
    "version": 3
   },
   "file_extension": ".py",
   "mimetype": "text/x-python",
   "name": "python",
   "nbconvert_exporter": "python",
   "pygments_lexer": "ipython3",
   "version": "3.12.5"
  }
 },
 "nbformat": 4,
 "nbformat_minor": 5
}
